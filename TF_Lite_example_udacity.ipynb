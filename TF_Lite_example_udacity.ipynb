{
  "nbformat": 4,
  "nbformat_minor": 0,
  "metadata": {
    "colab": {
      "name": "TF Lite example.ipynb",
      "provenance": [],
      "collapsed_sections": [],
      "authorship_tag": "ABX9TyMP8Dieeq5hAnSdF5Jc1jvT",
      "include_colab_link": true
    },
    "kernelspec": {
      "name": "python3",
      "display_name": "Python 3"
    }
  },
  "cells": [
    {
      "cell_type": "markdown",
      "metadata": {
        "id": "view-in-github",
        "colab_type": "text"
      },
      "source": [
        "<a href=\"https://colab.research.google.com/github/mmjck/MachineLearning/blob/master/TF_Lite_example_udacity.ipynb\" target=\"_parent\"><img src=\"https://colab.research.google.com/assets/colab-badge.svg\" alt=\"Open In Colab\"/></a>"
      ]
    },
    {
      "cell_type": "code",
      "metadata": {
        "id": "kizuh42qXvxg"
      },
      "source": [
        ""
      ],
      "execution_count": 4,
      "outputs": []
    },
    {
      "cell_type": "markdown",
      "metadata": {
        "id": "4eWfANwubWu-"
      },
      "source": [
        "Exemplo de modelos em tensorflow lite"
      ]
    },
    {
      "cell_type": "code",
      "metadata": {
        "id": "4X3VBYsBbXYX"
      },
      "source": [
        "\r\n",
        "import tensorflow as tf\r\n",
        "from tensorflow import keras\r\n",
        "from tensorflow.keras import layers"
      ],
      "execution_count": 25,
      "outputs": []
    },
    {
      "cell_type": "code",
      "metadata": {
        "id": "kX_yuxSwX7gb"
      },
      "source": [
        "x = [-1, 0, 1, 2, 3, 4]\r\n",
        "y = [-3, -1, 1, 3, 5, 7]"
      ],
      "execution_count": 26,
      "outputs": []
    },
    {
      "cell_type": "code",
      "metadata": {
        "id": "vDZi3UnqYHM9"
      },
      "source": [
        "model = keras.models.Sequential([\r\n",
        "        layers.Dense(units=1, input_shape=[1])                            \r\n",
        "])"
      ],
      "execution_count": 27,
      "outputs": []
    },
    {
      "cell_type": "code",
      "metadata": {
        "id": "DVIUK86KYppu"
      },
      "source": [
        "model.compile(optimizer='sgd', loss='mean_squared_error')"
      ],
      "execution_count": 28,
      "outputs": []
    },
    {
      "cell_type": "code",
      "metadata": {
        "colab": {
          "base_uri": "https://localhost:8080/"
        },
        "id": "gUHFjYc4YzET",
        "outputId": "a4373177-bc24-4ee7-9d33-50c51d9396a2"
      },
      "source": [
        "model.fit(x, y, epochs=500)"
      ],
      "execution_count": null,
      "outputs": [
        {
          "output_type": "stream",
          "text": [
            "Epoch 1/500\n",
            "1/1 [==============================] - 0s 298ms/step - loss: 17.1255\n",
            "Epoch 2/500\n",
            "1/1 [==============================] - 0s 4ms/step - loss: 13.7252\n",
            "Epoch 3/500\n",
            "1/1 [==============================] - 0s 4ms/step - loss: 11.0447\n",
            "Epoch 4/500\n",
            "1/1 [==============================] - 0s 5ms/step - loss: 8.9309\n",
            "Epoch 5/500\n",
            "1/1 [==============================] - 0s 4ms/step - loss: 7.2628\n",
            "Epoch 6/500\n",
            "1/1 [==============================] - 0s 4ms/step - loss: 5.9456\n",
            "Epoch 7/500\n",
            "1/1 [==============================] - 0s 4ms/step - loss: 4.9045\n",
            "Epoch 8/500\n",
            "1/1 [==============================] - 0s 4ms/step - loss: 4.0808\n",
            "Epoch 9/500\n",
            "1/1 [==============================] - 0s 4ms/step - loss: 3.4281\n",
            "Epoch 10/500\n",
            "1/1 [==============================] - 0s 4ms/step - loss: 2.9102\n",
            "Epoch 11/500\n",
            "1/1 [==============================] - 0s 3ms/step - loss: 2.4984\n",
            "Epoch 12/500\n",
            "1/1 [==============================] - 0s 3ms/step - loss: 2.1700\n",
            "Epoch 13/500\n",
            "1/1 [==============================] - 0s 7ms/step - loss: 1.9075\n",
            "Epoch 14/500\n",
            "1/1 [==============================] - 0s 4ms/step - loss: 1.6969\n",
            "Epoch 15/500\n",
            "1/1 [==============================] - 0s 8ms/step - loss: 1.5271\n",
            "Epoch 16/500\n",
            "1/1 [==============================] - 0s 4ms/step - loss: 1.3897\n",
            "Epoch 17/500\n",
            "1/1 [==============================] - 0s 6ms/step - loss: 1.2776\n",
            "Epoch 18/500\n",
            "1/1 [==============================] - 0s 5ms/step - loss: 1.1857\n",
            "Epoch 19/500\n",
            "1/1 [==============================] - 0s 3ms/step - loss: 1.1096\n",
            "Epoch 20/500\n",
            "1/1 [==============================] - 0s 4ms/step - loss: 1.0462\n",
            "Epoch 21/500\n",
            "1/1 [==============================] - 0s 4ms/step - loss: 0.9927\n",
            "Epoch 22/500\n",
            "1/1 [==============================] - 0s 4ms/step - loss: 0.9471\n",
            "Epoch 23/500\n",
            "1/1 [==============================] - 0s 6ms/step - loss: 0.9079\n",
            "Epoch 24/500\n",
            "1/1 [==============================] - 0s 4ms/step - loss: 0.8737\n",
            "Epoch 25/500\n",
            "1/1 [==============================] - 0s 4ms/step - loss: 0.8435\n",
            "Epoch 26/500\n",
            "1/1 [==============================] - 0s 4ms/step - loss: 0.8165\n",
            "Epoch 27/500\n",
            "1/1 [==============================] - 0s 6ms/step - loss: 0.7921\n",
            "Epoch 28/500\n",
            "1/1 [==============================] - 0s 7ms/step - loss: 0.7699\n",
            "Epoch 29/500\n",
            "1/1 [==============================] - 0s 4ms/step - loss: 0.7494\n",
            "Epoch 30/500\n",
            "1/1 [==============================] - 0s 7ms/step - loss: 0.7303\n",
            "Epoch 31/500\n",
            "1/1 [==============================] - 0s 6ms/step - loss: 0.7124\n",
            "Epoch 32/500\n",
            "1/1 [==============================] - 0s 6ms/step - loss: 0.6955\n",
            "Epoch 33/500\n",
            "1/1 [==============================] - 0s 4ms/step - loss: 0.6794\n",
            "Epoch 34/500\n",
            "1/1 [==============================] - 0s 7ms/step - loss: 0.6640\n",
            "Epoch 35/500\n",
            "1/1 [==============================] - 0s 3ms/step - loss: 0.6493\n",
            "Epoch 36/500\n",
            "1/1 [==============================] - 0s 7ms/step - loss: 0.6351\n",
            "Epoch 37/500\n",
            "1/1 [==============================] - 0s 4ms/step - loss: 0.6213\n",
            "Epoch 38/500\n",
            "1/1 [==============================] - 0s 5ms/step - loss: 0.6080\n",
            "Epoch 39/500\n",
            "1/1 [==============================] - 0s 4ms/step - loss: 0.5951\n",
            "Epoch 40/500\n",
            "1/1 [==============================] - 0s 4ms/step - loss: 0.5825\n",
            "Epoch 41/500\n",
            "1/1 [==============================] - 0s 4ms/step - loss: 0.5703\n",
            "Epoch 42/500\n",
            "1/1 [==============================] - 0s 4ms/step - loss: 0.5584\n",
            "Epoch 43/500\n",
            "1/1 [==============================] - 0s 14ms/step - loss: 0.5468\n",
            "Epoch 44/500\n",
            "1/1 [==============================] - 0s 4ms/step - loss: 0.5354\n",
            "Epoch 45/500\n",
            "1/1 [==============================] - 0s 4ms/step - loss: 0.5243\n",
            "Epoch 46/500\n",
            "1/1 [==============================] - 0s 7ms/step - loss: 0.5134\n",
            "Epoch 47/500\n",
            "1/1 [==============================] - 0s 7ms/step - loss: 0.5028\n",
            "Epoch 48/500\n",
            "1/1 [==============================] - 0s 3ms/step - loss: 0.4925\n",
            "Epoch 49/500\n",
            "1/1 [==============================] - 0s 5ms/step - loss: 0.4823\n",
            "Epoch 50/500\n",
            "1/1 [==============================] - 0s 6ms/step - loss: 0.4724\n",
            "Epoch 51/500\n",
            "1/1 [==============================] - 0s 4ms/step - loss: 0.4626\n",
            "Epoch 52/500\n",
            "1/1 [==============================] - 0s 4ms/step - loss: 0.4531\n",
            "Epoch 53/500\n",
            "1/1 [==============================] - 0s 3ms/step - loss: 0.4438\n",
            "Epoch 54/500\n",
            "1/1 [==============================] - 0s 4ms/step - loss: 0.4347\n",
            "Epoch 55/500\n",
            "1/1 [==============================] - 0s 4ms/step - loss: 0.4257\n",
            "Epoch 56/500\n",
            "1/1 [==============================] - 0s 3ms/step - loss: 0.4170\n",
            "Epoch 57/500\n",
            "1/1 [==============================] - 0s 4ms/step - loss: 0.4084\n",
            "Epoch 58/500\n",
            "1/1 [==============================] - 0s 7ms/step - loss: 0.4000\n",
            "Epoch 59/500\n",
            "1/1 [==============================] - 0s 3ms/step - loss: 0.3918\n",
            "Epoch 60/500\n",
            "1/1 [==============================] - 0s 5ms/step - loss: 0.3837\n",
            "Epoch 61/500\n",
            "1/1 [==============================] - 0s 5ms/step - loss: 0.3759\n",
            "Epoch 62/500\n",
            "1/1 [==============================] - 0s 4ms/step - loss: 0.3681\n",
            "Epoch 63/500\n",
            "1/1 [==============================] - 0s 4ms/step - loss: 0.3606\n",
            "Epoch 64/500\n",
            "1/1 [==============================] - 0s 4ms/step - loss: 0.3532\n",
            "Epoch 65/500\n",
            "1/1 [==============================] - 0s 4ms/step - loss: 0.3459\n",
            "Epoch 66/500\n",
            "1/1 [==============================] - 0s 4ms/step - loss: 0.3388\n",
            "Epoch 67/500\n",
            "1/1 [==============================] - 0s 3ms/step - loss: 0.3318\n",
            "Epoch 68/500\n",
            "1/1 [==============================] - 0s 3ms/step - loss: 0.3250\n",
            "Epoch 69/500\n",
            "1/1 [==============================] - 0s 7ms/step - loss: 0.3184\n",
            "Epoch 70/500\n",
            "1/1 [==============================] - 0s 5ms/step - loss: 0.3118\n",
            "Epoch 71/500\n",
            "1/1 [==============================] - 0s 6ms/step - loss: 0.3054\n",
            "Epoch 72/500\n",
            "1/1 [==============================] - 0s 4ms/step - loss: 0.2991\n",
            "Epoch 73/500\n",
            "1/1 [==============================] - 0s 3ms/step - loss: 0.2930\n",
            "Epoch 74/500\n",
            "1/1 [==============================] - 0s 4ms/step - loss: 0.2870\n",
            "Epoch 75/500\n",
            "1/1 [==============================] - 0s 3ms/step - loss: 0.2811\n",
            "Epoch 76/500\n",
            "1/1 [==============================] - 0s 3ms/step - loss: 0.2753\n",
            "Epoch 77/500\n",
            "1/1 [==============================] - 0s 4ms/step - loss: 0.2696\n",
            "Epoch 78/500\n",
            "1/1 [==============================] - 0s 4ms/step - loss: 0.2641\n",
            "Epoch 79/500\n",
            "1/1 [==============================] - 0s 4ms/step - loss: 0.2587\n",
            "Epoch 80/500\n",
            "1/1 [==============================] - 0s 7ms/step - loss: 0.2534\n",
            "Epoch 81/500\n",
            "1/1 [==============================] - 0s 4ms/step - loss: 0.2482\n",
            "Epoch 82/500\n",
            "1/1 [==============================] - 0s 8ms/step - loss: 0.2431\n",
            "Epoch 83/500\n",
            "1/1 [==============================] - 0s 4ms/step - loss: 0.2381\n",
            "Epoch 84/500\n",
            "1/1 [==============================] - 0s 4ms/step - loss: 0.2332\n",
            "Epoch 85/500\n",
            "1/1 [==============================] - 0s 4ms/step - loss: 0.2284\n",
            "Epoch 86/500\n",
            "1/1 [==============================] - 0s 3ms/step - loss: 0.2237\n",
            "Epoch 87/500\n",
            "1/1 [==============================] - 0s 8ms/step - loss: 0.2191\n",
            "Epoch 88/500\n",
            "1/1 [==============================] - 0s 4ms/step - loss: 0.2146\n",
            "Epoch 89/500\n",
            "1/1 [==============================] - 0s 3ms/step - loss: 0.2102\n",
            "Epoch 90/500\n",
            "1/1 [==============================] - 0s 4ms/step - loss: 0.2059\n",
            "Epoch 91/500\n",
            "1/1 [==============================] - 0s 4ms/step - loss: 0.2017\n",
            "Epoch 92/500\n",
            "1/1 [==============================] - 0s 4ms/step - loss: 0.1975\n",
            "Epoch 93/500\n",
            "1/1 [==============================] - 0s 4ms/step - loss: 0.1935\n",
            "Epoch 94/500\n",
            "1/1 [==============================] - 0s 8ms/step - loss: 0.1895\n",
            "Epoch 95/500\n",
            "1/1 [==============================] - 0s 4ms/step - loss: 0.1856\n",
            "Epoch 96/500\n",
            "1/1 [==============================] - 0s 4ms/step - loss: 0.1818\n",
            "Epoch 97/500\n",
            "1/1 [==============================] - 0s 4ms/step - loss: 0.1780\n",
            "Epoch 98/500\n",
            "1/1 [==============================] - 0s 4ms/step - loss: 0.1744\n",
            "Epoch 99/500\n",
            "1/1 [==============================] - 0s 4ms/step - loss: 0.1708\n",
            "Epoch 100/500\n",
            "1/1 [==============================] - 0s 4ms/step - loss: 0.1673\n",
            "Epoch 101/500\n",
            "1/1 [==============================] - 0s 5ms/step - loss: 0.1639\n",
            "Epoch 102/500\n",
            "1/1 [==============================] - 0s 3ms/step - loss: 0.1605\n",
            "Epoch 103/500\n",
            "1/1 [==============================] - 0s 8ms/step - loss: 0.1572\n",
            "Epoch 104/500\n",
            "1/1 [==============================] - 0s 5ms/step - loss: 0.1540\n",
            "Epoch 105/500\n",
            "1/1 [==============================] - 0s 4ms/step - loss: 0.1508\n",
            "Epoch 106/500\n",
            "1/1 [==============================] - 0s 3ms/step - loss: 0.1477\n",
            "Epoch 107/500\n",
            "1/1 [==============================] - 0s 4ms/step - loss: 0.1447\n",
            "Epoch 108/500\n",
            "1/1 [==============================] - 0s 5ms/step - loss: 0.1417\n",
            "Epoch 109/500\n",
            "1/1 [==============================] - 0s 5ms/step - loss: 0.1388\n",
            "Epoch 110/500\n",
            "1/1 [==============================] - 0s 4ms/step - loss: 0.1359\n",
            "Epoch 111/500\n",
            "1/1 [==============================] - 0s 5ms/step - loss: 0.1331\n",
            "Epoch 112/500\n",
            "1/1 [==============================] - 0s 10ms/step - loss: 0.1304\n",
            "Epoch 113/500\n",
            "1/1 [==============================] - 0s 4ms/step - loss: 0.1277\n",
            "Epoch 114/500\n",
            "1/1 [==============================] - 0s 4ms/step - loss: 0.1251\n",
            "Epoch 115/500\n",
            "1/1 [==============================] - 0s 4ms/step - loss: 0.1225\n",
            "Epoch 116/500\n",
            "1/1 [==============================] - 0s 4ms/step - loss: 0.1200\n",
            "Epoch 117/500\n",
            "1/1 [==============================] - 0s 4ms/step - loss: 0.1176\n",
            "Epoch 118/500\n",
            "1/1 [==============================] - 0s 4ms/step - loss: 0.1151\n",
            "Epoch 119/500\n",
            "1/1 [==============================] - 0s 8ms/step - loss: 0.1128\n",
            "Epoch 120/500\n",
            "1/1 [==============================] - 0s 8ms/step - loss: 0.1105\n",
            "Epoch 121/500\n",
            "1/1 [==============================] - 0s 4ms/step - loss: 0.1082\n",
            "Epoch 122/500\n",
            "1/1 [==============================] - 0s 4ms/step - loss: 0.1060\n",
            "Epoch 123/500\n",
            "1/1 [==============================] - 0s 5ms/step - loss: 0.1038\n",
            "Epoch 124/500\n",
            "1/1 [==============================] - 0s 4ms/step - loss: 0.1017\n",
            "Epoch 125/500\n",
            "1/1 [==============================] - 0s 5ms/step - loss: 0.0996\n",
            "Epoch 126/500\n",
            "1/1 [==============================] - 0s 3ms/step - loss: 0.0975\n",
            "Epoch 127/500\n",
            "1/1 [==============================] - 0s 4ms/step - loss: 0.0955\n",
            "Epoch 128/500\n",
            "1/1 [==============================] - 0s 4ms/step - loss: 0.0936\n",
            "Epoch 129/500\n",
            "1/1 [==============================] - 0s 4ms/step - loss: 0.0916\n",
            "Epoch 130/500\n",
            "1/1 [==============================] - 0s 4ms/step - loss: 0.0898\n",
            "Epoch 131/500\n",
            "1/1 [==============================] - 0s 4ms/step - loss: 0.0879\n",
            "Epoch 132/500\n",
            "1/1 [==============================] - 0s 8ms/step - loss: 0.0861\n",
            "Epoch 133/500\n",
            "1/1 [==============================] - 0s 4ms/step - loss: 0.0843\n",
            "Epoch 134/500\n",
            "1/1 [==============================] - 0s 4ms/step - loss: 0.0826\n",
            "Epoch 135/500\n",
            "1/1 [==============================] - 0s 3ms/step - loss: 0.0809\n",
            "Epoch 136/500\n",
            "1/1 [==============================] - 0s 3ms/step - loss: 0.0792\n",
            "Epoch 137/500\n",
            "1/1 [==============================] - 0s 6ms/step - loss: 0.0776\n",
            "Epoch 138/500\n",
            "1/1 [==============================] - 0s 5ms/step - loss: 0.0760\n",
            "Epoch 139/500\n",
            "1/1 [==============================] - 0s 6ms/step - loss: 0.0745\n",
            "Epoch 140/500\n",
            "1/1 [==============================] - 0s 5ms/step - loss: 0.0729\n",
            "Epoch 141/500\n",
            "1/1 [==============================] - 0s 6ms/step - loss: 0.0714\n",
            "Epoch 142/500\n",
            "1/1 [==============================] - 0s 4ms/step - loss: 0.0700\n",
            "Epoch 143/500\n",
            "1/1 [==============================] - 0s 6ms/step - loss: 0.0685\n",
            "Epoch 144/500\n",
            "1/1 [==============================] - 0s 7ms/step - loss: 0.0671\n",
            "Epoch 145/500\n",
            "1/1 [==============================] - 0s 3ms/step - loss: 0.0657\n"
          ],
          "name": "stdout"
        }
      ]
    },
    {
      "cell_type": "code",
      "metadata": {
        "id": "GCk06V9LY6UX"
      },
      "source": [
        "import pathlib"
      ],
      "execution_count": null,
      "outputs": []
    },
    {
      "cell_type": "code",
      "metadata": {
        "id": "R9Yitcz4ZcGG"
      },
      "source": [
        "export_dir = './saved_model'"
      ],
      "execution_count": null,
      "outputs": []
    },
    {
      "cell_type": "code",
      "metadata": {
        "id": "m4a5TbGIZiMt"
      },
      "source": [
        "tf.saved_model.save(model, export_dir)"
      ],
      "execution_count": null,
      "outputs": []
    },
    {
      "cell_type": "code",
      "metadata": {
        "id": "oKOjhlZ0ZrNH"
      },
      "source": [
        ""
      ],
      "execution_count": null,
      "outputs": []
    },
    {
      "cell_type": "code",
      "metadata": {
        "id": "5VKCoSWTZ1UV"
      },
      "source": [
        ""
      ],
      "execution_count": null,
      "outputs": []
    },
    {
      "cell_type": "code",
      "metadata": {
        "id": "Jt6XxEcsZ1Xy"
      },
      "source": [
        "converter = tf.lite.TFLiteConverter.from_saved_model(export_dir)\r\n",
        "tflite_model = converter.convert()"
      ],
      "execution_count": null,
      "outputs": []
    },
    {
      "cell_type": "code",
      "metadata": {
        "id": "Zmg6IyWAaDrU"
      },
      "source": [
        "tflite_model_file = pathlib.Path('./foo.tflite')\r\n",
        "tflite_model_file.write_bytes(tflite_model)"
      ],
      "execution_count": null,
      "outputs": []
    },
    {
      "cell_type": "code",
      "metadata": {
        "id": "Wjt7_7O0azar"
      },
      "source": [
        ""
      ],
      "execution_count": null,
      "outputs": []
    },
    {
      "cell_type": "code",
      "metadata": {
        "id": "MuiOR3Yjazcl"
      },
      "source": [
        ""
      ],
      "execution_count": null,
      "outputs": []
    },
    {
      "cell_type": "code",
      "metadata": {
        "id": "MKMRconYazep"
      },
      "source": [
        ""
      ],
      "execution_count": null,
      "outputs": []
    },
    {
      "cell_type": "code",
      "metadata": {
        "id": "uJJFyjWYazgq"
      },
      "source": [
        ""
      ],
      "execution_count": null,
      "outputs": []
    },
    {
      "cell_type": "code",
      "metadata": {
        "id": "XTENY-afazkQ"
      },
      "source": [
        "mobileNet = keras.applications.MobileNetV2(weights='imagenet', input_shape=(224, 224, 3))"
      ],
      "execution_count": null,
      "outputs": []
    },
    {
      "cell_type": "code",
      "metadata": {
        "id": "hwUQZoPObRVX"
      },
      "source": [
        "mobileNet_converter = tf.lite.TFLiteConverter.from_keras_model(mobileNet)\r\n",
        "mobileNet_tflite_model = mobileNet_converter.convert()"
      ],
      "execution_count": null,
      "outputs": []
    },
    {
      "cell_type": "code",
      "metadata": {
        "id": "JNp4vQYsd0bQ"
      },
      "source": [
        "tflite_model_mbNet = pathlib.Path('./foo.lite.mb')\r\n",
        "tflite_model_mbNet.write_bytes(mobileNet_tflite_model)"
      ],
      "execution_count": null,
      "outputs": []
    },
    {
      "cell_type": "code",
      "metadata": {
        "id": "jCnXIdi7hhEf"
      },
      "source": [
        ""
      ],
      "execution_count": null,
      "outputs": []
    },
    {
      "cell_type": "code",
      "metadata": {
        "id": "6coJRz2NhhGf"
      },
      "source": [
        ""
      ],
      "execution_count": null,
      "outputs": []
    },
    {
      "cell_type": "code",
      "metadata": {
        "id": "xDttSzgkhhK4"
      },
      "source": [
        ""
      ],
      "execution_count": null,
      "outputs": []
    },
    {
      "cell_type": "code",
      "metadata": {
        "id": "40KdYCr-hhOS"
      },
      "source": [
        "run_model = tf.function(lambda x: mobileNet(x))"
      ],
      "execution_count": 21,
      "outputs": []
    },
    {
      "cell_type": "code",
      "metadata": {
        "id": "VhiZj0ebhyaW"
      },
      "source": [
        "concrete_func = run_model.get_concrete_function(tf.TensorSpec(\r\n",
        "    mobileNet.inputs[0].shape,\r\n",
        "    mobileNet.inputs[0].dtype,\r\n",
        "))"
      ],
      "execution_count": 23,
      "outputs": []
    },
    {
      "cell_type": "code",
      "metadata": {
        "colab": {
          "base_uri": "https://localhost:8080/"
        },
        "id": "VBucT9w1hycj",
        "outputId": "dcfad4a1-6985-4ce5-ad16-bd635107fa60"
      },
      "source": [
        "  tflite_model = mobileNet_converter.convert()"
      ],
      "execution_count": 24,
      "outputs": [
        {
          "output_type": "stream",
          "text": [
            "INFO:tensorflow:Assets written to: /tmp/tmp9iml_m3w/assets\n"
          ],
          "name": "stdout"
        },
        {
          "output_type": "stream",
          "text": [
            "INFO:tensorflow:Assets written to: /tmp/tmp9iml_m3w/assets\n"
          ],
          "name": "stderr"
        }
      ]
    },
    {
      "cell_type": "code",
      "metadata": {
        "id": "DjgGvsqChye-"
      },
      "source": [
        ""
      ],
      "execution_count": null,
      "outputs": []
    },
    {
      "cell_type": "code",
      "metadata": {
        "id": "QuBTDB3rhyiZ"
      },
      "source": [
        ""
      ],
      "execution_count": null,
      "outputs": []
    },
    {
      "cell_type": "markdown",
      "metadata": {
        "id": "MwF-6HkSbUgp"
      },
      "source": [
        ""
      ]
    }
  ]
}